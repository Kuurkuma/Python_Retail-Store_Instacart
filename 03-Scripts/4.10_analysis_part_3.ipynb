{
 "cells": [
  {
   "cell_type": "markdown",
   "metadata": {},
   "source": [
    "# This script contains the following:\n",
    "- Import libraries & load datasets\n",
    "- Creation of a subset with less columns\n",
    "- Vizualisation of Age groups\n",
    "- Vizualisation of income groups\n",
    "- Vizualisation of Family status\n",
    "- Export "
   ]
  },
  {
   "cell_type": "markdown",
   "metadata": {},
   "source": [
    "# Import libraries"
   ]
  },
  {
   "cell_type": "code",
   "execution_count": 1,
   "metadata": {},
   "outputs": [],
   "source": [
    "import pandas as pd\n",
    "import numpy as np\n",
    "import os\n",
    "import matplotlib.pyplot as plt\n",
    "import seaborn as sns\n",
    "import scipy\n"
   ]
  },
  {
   "cell_type": "markdown",
   "metadata": {},
   "source": [
    "# Load datasets"
   ]
  },
  {
   "cell_type": "code",
   "execution_count": 2,
   "metadata": {},
   "outputs": [],
   "source": [
    "# Define full absolute paths\n",
    "path = r'/Users/macbook/Dropbox/Mac/Documents/Pro/Data Analyst/Course_Career foundry/A4_Python/2023.08_Instacart basket analysis/02_data/'\n",
    "file_path = os.path.join(path, 'prepared data', 'all_data_above_5_orders_V2')\n",
    "\n",
    "# Import the dataframe\n",
    "df = pd.read_pickle(file_path)"
   ]
  },
  {
   "cell_type": "code",
   "execution_count": 3,
   "metadata": {},
   "outputs": [
    {
     "data": {
      "text/html": [
       "<div>\n",
       "<style scoped>\n",
       "    .dataframe tbody tr th:only-of-type {\n",
       "        vertical-align: middle;\n",
       "    }\n",
       "\n",
       "    .dataframe tbody tr th {\n",
       "        vertical-align: top;\n",
       "    }\n",
       "\n",
       "    .dataframe thead th {\n",
       "        text-align: right;\n",
       "    }\n",
       "</style>\n",
       "<table border=\"1\" class=\"dataframe\">\n",
       "  <thead>\n",
       "    <tr style=\"text-align: right;\">\n",
       "      <th></th>\n",
       "      <th>order_id</th>\n",
       "      <th>user_id</th>\n",
       "      <th>number_order_client</th>\n",
       "      <th>orders_day_of_week</th>\n",
       "      <th>order_hour_of_day</th>\n",
       "      <th>days_since_prior_order</th>\n",
       "      <th>product_id</th>\n",
       "      <th>add_to_cart_order</th>\n",
       "      <th>reordered</th>\n",
       "      <th>product_name</th>\n",
       "      <th>...</th>\n",
       "      <th>date_joined</th>\n",
       "      <th>n_dependants</th>\n",
       "      <th>fam_status</th>\n",
       "      <th>income</th>\n",
       "      <th>region</th>\n",
       "      <th>age_group</th>\n",
       "      <th>income_category</th>\n",
       "      <th>department</th>\n",
       "      <th>has_pets</th>\n",
       "      <th>family_type</th>\n",
       "    </tr>\n",
       "  </thead>\n",
       "  <tbody>\n",
       "    <tr>\n",
       "      <th>0</th>\n",
       "      <td>2539329</td>\n",
       "      <td>1</td>\n",
       "      <td>1</td>\n",
       "      <td>2</td>\n",
       "      <td>8</td>\n",
       "      <td>NaN</td>\n",
       "      <td>196.0</td>\n",
       "      <td>1.0</td>\n",
       "      <td>0.0</td>\n",
       "      <td>Soda</td>\n",
       "      <td>...</td>\n",
       "      <td>2/17/2019</td>\n",
       "      <td>3</td>\n",
       "      <td>married</td>\n",
       "      <td>40423</td>\n",
       "      <td>South</td>\n",
       "      <td>30-39</td>\n",
       "      <td>Middle income</td>\n",
       "      <td>beverages</td>\n",
       "      <td>No</td>\n",
       "      <td>big family</td>\n",
       "    </tr>\n",
       "    <tr>\n",
       "      <th>1</th>\n",
       "      <td>2398795</td>\n",
       "      <td>1</td>\n",
       "      <td>2</td>\n",
       "      <td>3</td>\n",
       "      <td>7</td>\n",
       "      <td>15.0</td>\n",
       "      <td>196.0</td>\n",
       "      <td>1.0</td>\n",
       "      <td>1.0</td>\n",
       "      <td>Soda</td>\n",
       "      <td>...</td>\n",
       "      <td>2/17/2019</td>\n",
       "      <td>3</td>\n",
       "      <td>married</td>\n",
       "      <td>40423</td>\n",
       "      <td>South</td>\n",
       "      <td>30-39</td>\n",
       "      <td>Middle income</td>\n",
       "      <td>beverages</td>\n",
       "      <td>No</td>\n",
       "      <td>big family</td>\n",
       "    </tr>\n",
       "    <tr>\n",
       "      <th>2</th>\n",
       "      <td>473747</td>\n",
       "      <td>1</td>\n",
       "      <td>3</td>\n",
       "      <td>3</td>\n",
       "      <td>12</td>\n",
       "      <td>21.0</td>\n",
       "      <td>196.0</td>\n",
       "      <td>1.0</td>\n",
       "      <td>1.0</td>\n",
       "      <td>Soda</td>\n",
       "      <td>...</td>\n",
       "      <td>2/17/2019</td>\n",
       "      <td>3</td>\n",
       "      <td>married</td>\n",
       "      <td>40423</td>\n",
       "      <td>South</td>\n",
       "      <td>30-39</td>\n",
       "      <td>Middle income</td>\n",
       "      <td>beverages</td>\n",
       "      <td>No</td>\n",
       "      <td>big family</td>\n",
       "    </tr>\n",
       "    <tr>\n",
       "      <th>3</th>\n",
       "      <td>2254736</td>\n",
       "      <td>1</td>\n",
       "      <td>4</td>\n",
       "      <td>4</td>\n",
       "      <td>7</td>\n",
       "      <td>29.0</td>\n",
       "      <td>196.0</td>\n",
       "      <td>1.0</td>\n",
       "      <td>1.0</td>\n",
       "      <td>Soda</td>\n",
       "      <td>...</td>\n",
       "      <td>2/17/2019</td>\n",
       "      <td>3</td>\n",
       "      <td>married</td>\n",
       "      <td>40423</td>\n",
       "      <td>South</td>\n",
       "      <td>30-39</td>\n",
       "      <td>Middle income</td>\n",
       "      <td>beverages</td>\n",
       "      <td>No</td>\n",
       "      <td>big family</td>\n",
       "    </tr>\n",
       "    <tr>\n",
       "      <th>4</th>\n",
       "      <td>431534</td>\n",
       "      <td>1</td>\n",
       "      <td>5</td>\n",
       "      <td>4</td>\n",
       "      <td>15</td>\n",
       "      <td>28.0</td>\n",
       "      <td>196.0</td>\n",
       "      <td>1.0</td>\n",
       "      <td>1.0</td>\n",
       "      <td>Soda</td>\n",
       "      <td>...</td>\n",
       "      <td>2/17/2019</td>\n",
       "      <td>3</td>\n",
       "      <td>married</td>\n",
       "      <td>40423</td>\n",
       "      <td>South</td>\n",
       "      <td>30-39</td>\n",
       "      <td>Middle income</td>\n",
       "      <td>beverages</td>\n",
       "      <td>No</td>\n",
       "      <td>big family</td>\n",
       "    </tr>\n",
       "  </tbody>\n",
       "</table>\n",
       "<p>5 rows × 35 columns</p>\n",
       "</div>"
      ],
      "text/plain": [
       "   order_id  user_id  number_order_client  orders_day_of_week  \\\n",
       "0   2539329        1                    1                   2   \n",
       "1   2398795        1                    2                   3   \n",
       "2    473747        1                    3                   3   \n",
       "3   2254736        1                    4                   4   \n",
       "4    431534        1                    5                   4   \n",
       "\n",
       "   order_hour_of_day  days_since_prior_order  product_id  add_to_cart_order  \\\n",
       "0                  8                     NaN       196.0                1.0   \n",
       "1                  7                    15.0       196.0                1.0   \n",
       "2                 12                    21.0       196.0                1.0   \n",
       "3                  7                    29.0       196.0                1.0   \n",
       "4                 15                    28.0       196.0                1.0   \n",
       "\n",
       "   reordered product_name  ...  date_joined  n_dependants fam_status income  \\\n",
       "0        0.0         Soda  ...    2/17/2019             3    married  40423   \n",
       "1        1.0         Soda  ...    2/17/2019             3    married  40423   \n",
       "2        1.0         Soda  ...    2/17/2019             3    married  40423   \n",
       "3        1.0         Soda  ...    2/17/2019             3    married  40423   \n",
       "4        1.0         Soda  ...    2/17/2019             3    married  40423   \n",
       "\n",
       "  region age_group  income_category department  has_pets family_type  \n",
       "0  South     30-39    Middle income  beverages        No  big family  \n",
       "1  South     30-39    Middle income  beverages        No  big family  \n",
       "2  South     30-39    Middle income  beverages        No  big family  \n",
       "3  South     30-39    Middle income  beverages        No  big family  \n",
       "4  South     30-39    Middle income  beverages        No  big family  \n",
       "\n",
       "[5 rows x 35 columns]"
      ]
     },
     "execution_count": 3,
     "metadata": {},
     "output_type": "execute_result"
    }
   ],
   "source": [
    "# Checking loading\n",
    "df.head()"
   ]
  },
  {
   "cell_type": "code",
   "execution_count": 4,
   "metadata": {},
   "outputs": [
    {
     "data": {
      "text/plain": [
       "Index(['order_id', 'user_id', 'number_order_client', 'orders_day_of_week',\n",
       "       'order_hour_of_day', 'days_since_prior_order', 'product_id',\n",
       "       'add_to_cart_order', 'reordered', 'product_name', 'department_id',\n",
       "       'prices', 'price_range_loc', 'busiest_day', 'busiest_days',\n",
       "       'busiest_period_of_day', 'max_order', 'loyalty_flag', 'mean_price',\n",
       "       'spending_flag', 'median_days', 'frequency_flag', 'gender', 'state',\n",
       "       'age', 'date_joined', 'n_dependants', 'fam_status', 'income', 'region',\n",
       "       'age_group', 'income_category', 'department', 'has_pets',\n",
       "       'family_type'],\n",
       "      dtype='object')"
      ]
     },
     "execution_count": 4,
     "metadata": {},
     "output_type": "execute_result"
    }
   ],
   "source": [
    "# Check loading\n",
    "df.columns\n"
   ]
  },
  {
   "cell_type": "markdown",
   "metadata": {},
   "source": [
    "# Creation of a subset \n",
    "reduce the number of column of the data frame for clarity"
   ]
  },
  {
   "cell_type": "code",
   "execution_count": 5,
   "metadata": {},
   "outputs": [
    {
     "data": {
      "text/html": [
       "<div>\n",
       "<style scoped>\n",
       "    .dataframe tbody tr th:only-of-type {\n",
       "        vertical-align: middle;\n",
       "    }\n",
       "\n",
       "    .dataframe tbody tr th {\n",
       "        vertical-align: top;\n",
       "    }\n",
       "\n",
       "    .dataframe thead th {\n",
       "        text-align: right;\n",
       "    }\n",
       "</style>\n",
       "<table border=\"1\" class=\"dataframe\">\n",
       "  <thead>\n",
       "    <tr style=\"text-align: right;\">\n",
       "      <th></th>\n",
       "      <th>number_order_client</th>\n",
       "      <th>orders_day_of_week</th>\n",
       "      <th>order_hour_of_day</th>\n",
       "      <th>product_name</th>\n",
       "      <th>prices</th>\n",
       "      <th>busiest_period_of_day</th>\n",
       "      <th>loyalty_flag</th>\n",
       "      <th>spending_flag</th>\n",
       "      <th>frequency_flag</th>\n",
       "      <th>gender</th>\n",
       "      <th>state</th>\n",
       "      <th>age_group</th>\n",
       "      <th>income</th>\n",
       "      <th>income_category</th>\n",
       "      <th>region</th>\n",
       "      <th>department</th>\n",
       "      <th>has_pets</th>\n",
       "      <th>fam_status</th>\n",
       "      <th>family_type</th>\n",
       "    </tr>\n",
       "  </thead>\n",
       "  <tbody>\n",
       "    <tr>\n",
       "      <th>0</th>\n",
       "      <td>1</td>\n",
       "      <td>2</td>\n",
       "      <td>8</td>\n",
       "      <td>Soda</td>\n",
       "      <td>9.0</td>\n",
       "      <td>Average orders</td>\n",
       "      <td>new customer</td>\n",
       "      <td>Low spender</td>\n",
       "      <td>Non-frequent customer</td>\n",
       "      <td>Female</td>\n",
       "      <td>Alabama</td>\n",
       "      <td>30-39</td>\n",
       "      <td>40423</td>\n",
       "      <td>Middle income</td>\n",
       "      <td>South</td>\n",
       "      <td>beverages</td>\n",
       "      <td>No</td>\n",
       "      <td>married</td>\n",
       "      <td>big family</td>\n",
       "    </tr>\n",
       "    <tr>\n",
       "      <th>1</th>\n",
       "      <td>2</td>\n",
       "      <td>3</td>\n",
       "      <td>7</td>\n",
       "      <td>Soda</td>\n",
       "      <td>9.0</td>\n",
       "      <td>Average orders</td>\n",
       "      <td>new customer</td>\n",
       "      <td>Low spender</td>\n",
       "      <td>Non-frequent customer</td>\n",
       "      <td>Female</td>\n",
       "      <td>Alabama</td>\n",
       "      <td>30-39</td>\n",
       "      <td>40423</td>\n",
       "      <td>Middle income</td>\n",
       "      <td>South</td>\n",
       "      <td>beverages</td>\n",
       "      <td>No</td>\n",
       "      <td>married</td>\n",
       "      <td>big family</td>\n",
       "    </tr>\n",
       "    <tr>\n",
       "      <th>2</th>\n",
       "      <td>3</td>\n",
       "      <td>3</td>\n",
       "      <td>12</td>\n",
       "      <td>Soda</td>\n",
       "      <td>9.0</td>\n",
       "      <td>Most orders</td>\n",
       "      <td>new customer</td>\n",
       "      <td>Low spender</td>\n",
       "      <td>Non-frequent customer</td>\n",
       "      <td>Female</td>\n",
       "      <td>Alabama</td>\n",
       "      <td>30-39</td>\n",
       "      <td>40423</td>\n",
       "      <td>Middle income</td>\n",
       "      <td>South</td>\n",
       "      <td>beverages</td>\n",
       "      <td>No</td>\n",
       "      <td>married</td>\n",
       "      <td>big family</td>\n",
       "    </tr>\n",
       "    <tr>\n",
       "      <th>3</th>\n",
       "      <td>4</td>\n",
       "      <td>4</td>\n",
       "      <td>7</td>\n",
       "      <td>Soda</td>\n",
       "      <td>9.0</td>\n",
       "      <td>Average orders</td>\n",
       "      <td>new customer</td>\n",
       "      <td>Low spender</td>\n",
       "      <td>Non-frequent customer</td>\n",
       "      <td>Female</td>\n",
       "      <td>Alabama</td>\n",
       "      <td>30-39</td>\n",
       "      <td>40423</td>\n",
       "      <td>Middle income</td>\n",
       "      <td>South</td>\n",
       "      <td>beverages</td>\n",
       "      <td>No</td>\n",
       "      <td>married</td>\n",
       "      <td>big family</td>\n",
       "    </tr>\n",
       "    <tr>\n",
       "      <th>4</th>\n",
       "      <td>5</td>\n",
       "      <td>4</td>\n",
       "      <td>15</td>\n",
       "      <td>Soda</td>\n",
       "      <td>9.0</td>\n",
       "      <td>Most orders</td>\n",
       "      <td>new customer</td>\n",
       "      <td>Low spender</td>\n",
       "      <td>Non-frequent customer</td>\n",
       "      <td>Female</td>\n",
       "      <td>Alabama</td>\n",
       "      <td>30-39</td>\n",
       "      <td>40423</td>\n",
       "      <td>Middle income</td>\n",
       "      <td>South</td>\n",
       "      <td>beverages</td>\n",
       "      <td>No</td>\n",
       "      <td>married</td>\n",
       "      <td>big family</td>\n",
       "    </tr>\n",
       "  </tbody>\n",
       "</table>\n",
       "</div>"
      ],
      "text/plain": [
       "   number_order_client  orders_day_of_week  order_hour_of_day product_name  \\\n",
       "0                    1                   2                  8         Soda   \n",
       "1                    2                   3                  7         Soda   \n",
       "2                    3                   3                 12         Soda   \n",
       "3                    4                   4                  7         Soda   \n",
       "4                    5                   4                 15         Soda   \n",
       "\n",
       "   prices busiest_period_of_day  loyalty_flag spending_flag  \\\n",
       "0     9.0        Average orders  new customer   Low spender   \n",
       "1     9.0        Average orders  new customer   Low spender   \n",
       "2     9.0           Most orders  new customer   Low spender   \n",
       "3     9.0        Average orders  new customer   Low spender   \n",
       "4     9.0           Most orders  new customer   Low spender   \n",
       "\n",
       "          frequency_flag  gender    state age_group  income income_category  \\\n",
       "0  Non-frequent customer  Female  Alabama     30-39   40423   Middle income   \n",
       "1  Non-frequent customer  Female  Alabama     30-39   40423   Middle income   \n",
       "2  Non-frequent customer  Female  Alabama     30-39   40423   Middle income   \n",
       "3  Non-frequent customer  Female  Alabama     30-39   40423   Middle income   \n",
       "4  Non-frequent customer  Female  Alabama     30-39   40423   Middle income   \n",
       "\n",
       "  region department has_pets fam_status family_type  \n",
       "0  South  beverages       No    married  big family  \n",
       "1  South  beverages       No    married  big family  \n",
       "2  South  beverages       No    married  big family  \n",
       "3  South  beverages       No    married  big family  \n",
       "4  South  beverages       No    married  big family  "
      ]
     },
     "execution_count": 5,
     "metadata": {},
     "output_type": "execute_result"
    }
   ],
   "source": [
    "selected_columns = ['number_order_client', \n",
    "'orders_day_of_week', 'order_hour_of_day', 'product_name', \n",
    "'prices', 'busiest_period_of_day', 'loyalty_flag', \n",
    "'spending_flag', 'frequency_flag', 'gender', 'state',\n",
    "'age_group', 'income','income_category', 'region', 'department', 'has_pets', 'fam_status', 'family_type']\n",
    "\n",
    "df_sub = df[selected_columns]\n",
    "\n",
    "# Checking subset of dataframe\n",
    "df_sub.head()\n"
   ]
  },
  {
   "cell_type": "markdown",
   "metadata": {},
   "source": [
    "# Vizualisation for customer profiles"
   ]
  },
  {
   "cell_type": "markdown",
   "metadata": {},
   "source": [
    "## Age groups"
   ]
  },
  {
   "cell_type": "code",
   "execution_count": 6,
   "metadata": {},
   "outputs": [
    {
     "data": {
      "image/png": "[encoded data removed]",
      "text/plain": [
       "<Figure size 640x480 with 1 Axes>"
      ]
     },
     "metadata": {},
     "output_type": "display_data"
    }
   ],
   "source": [
    "# Count the number of customers in each age group and sort them by index\n",
    "age_group_counts = df['age_group'].value_counts().sort_index()\n",
    "\n",
    "# Create a bar chart to visualize the distribution of customers across age groups\n",
    "plt.bar(age_group_counts.index, age_group_counts.values, color='skyblue')\n",
    "plt.title('Customers per Age Group')\n",
    "plt.xlabel('Age Group')\n",
    "plt.ylabel('Number of Customers')\n",
    "plt.show()\n",
    "\n"
   ]
  },
  {
   "cell_type": "markdown",
   "metadata": {},
   "source": [
    "# Vizs income groups"
   ]
  },
  {
   "cell_type": "code",
   "execution_count": 7,
   "metadata": {},
   "outputs": [
    {
     "data": {
      "image/png": "[encoded data removed]",
      "text/plain": [
       "<Figure size 640x480 with 1 Axes>"
      ]
     },
     "metadata": {},
     "output_type": "display_data"
    }
   ],
   "source": [
    "# Vizualisation income groups\n",
    "income_group_counts = df['income_category'].value_counts().sort_index()\n",
    "\n",
    "plt.bar(income_group_counts.index, income_group_counts.values, color='darkred')\n",
    "plt.title('Customers per income')\n",
    "plt.xlabel('Income Group')\n",
    "plt.ylabel('Number of Customers')\n",
    "plt.show()\n"
   ]
  },
  {
   "cell_type": "code",
   "execution_count": 8,
   "metadata": {},
   "outputs": [
    {
     "data": {
      "image/png": "[encoded data removed]",
      "text/plain": [
       "<Figure size 640x480 with 1 Axes>"
      ]
     },
     "metadata": {},
     "output_type": "display_data"
    }
   ],
   "source": [
    "# Vizs Family status\n",
    "family_status_counts = df['family_type'].value_counts()\n",
    "\n",
    "\n",
    "plt.bar(family_status_counts.index, family_status_counts.values, color='lightblue')\n",
    "plt.title('Customers by Family Status')\n",
    "plt.xlabel('Family Status')\n",
    "plt.ylabel('Number of Customers')\n",
    "plt.show()\n"
   ]
  },
  {
   "cell_type": "code",
   "execution_count": 9,
   "metadata": {},
   "outputs": [
    {
     "data": {
      "image/png": "[encoded data removed]",
      "text/plain": [
       "<Figure size 640x480 with 1 Axes>"
      ]
     },
     "metadata": {},
     "output_type": "display_data"
    }
   ],
   "source": [
    "# Vizs for 'has pet'\n",
    "has_pets_counts = df['has_pets'].value_counts()\n",
    "\n",
    "plt.bar(has_pets_counts.index, has_pets_counts.values, color='lightgreen')\n",
    "plt.title('Customers with Pets')\n",
    "plt.show()\n"
   ]
  },
  {
   "cell_type": "markdown",
   "metadata": {},
   "source": [
    "# Export "
   ]
  },
  {
   "cell_type": "code",
   "execution_count": 10,
   "metadata": {},
   "outputs": [],
   "source": [
    "# Export in pickel\n",
    "df_sub.to_pickle(os.path.join(path,'prepared data','all_data_above_5_orders_V3'))"
   ]
  }
 ],
 "metadata": {
  "kernelspec": {
   "display_name": "base",
   "language": "python",
   "name": "python3"
  },
  "language_info": {
   "codemirror_mode": {
    "name": "ipython",
    "version": 3
   },
   "file_extension": ".py",
   "mimetype": "text/x-python",
   "name": "python",
   "nbconvert_exporter": "python",
   "pygments_lexer": "ipython3",
   "version": "3.11.4"
  },
  "orig_nbformat": 4
 },
 "nbformat": 4,
 "nbformat_minor": 2
}
