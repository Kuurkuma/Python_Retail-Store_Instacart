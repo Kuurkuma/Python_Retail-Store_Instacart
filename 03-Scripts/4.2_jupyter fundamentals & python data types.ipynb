{
 "cells": [
  {
   "cell_type": "markdown",
   "id": "16b17d95",
   "metadata": {},
   "source": [
    "# Importing pandas, numpy & os"
   ]
  },
  {
   "cell_type": "code",
   "execution_count": 17,
   "id": "c1f57818",
   "metadata": {},
   "outputs": [],
   "source": [
    "# import libraries\n",
    "import pandas as pd\n",
    "import numpy as np\n",
    "import os"
   ]
  },
  {
   "cell_type": "markdown",
   "id": "34efdfd9",
   "metadata": {},
   "source": [
    "# data types"
   ]
  },
  {
   "cell_type": "code",
   "execution_count": 20,
   "id": "4f1d13ca",
   "metadata": {},
   "outputs": [
    {
     "name": "stdout",
     "output_type": "stream",
     "text": [
      "100\n",
      "100\n",
      "100\n"
     ]
    }
   ],
   "source": [
    "a=10\n",
    "b=100\n",
    "c=0\n",
    "print(a*a)\n",
    "print(b-c)\n",
    "print(b+c)"
   ]
  },
  {
   "cell_type": "code",
   "execution_count": 21,
   "id": "43a7c299",
   "metadata": {},
   "outputs": [
    {
     "name": "stdout",
     "output_type": "stream",
     "text": [
      "1.2857142857142858\n"
     ]
    }
   ],
   "source": [
    "a=4.5\n",
    "b=3.5\n",
    "\n",
    "print(a/b)"
   ]
  },
  {
   "cell_type": "code",
   "execution_count": 24,
   "id": "4d12d7a1",
   "metadata": {},
   "outputs": [
    {
     "name": "stdout",
     "output_type": "stream",
     "text": [
      "separate strings\n"
     ]
    }
   ],
   "source": [
    "a='separate'\n",
    "_= ' '\n",
    "b='strings'\n",
    "print(a+_+b)"
   ]
  },
  {
   "cell_type": "code",
   "execution_count": 27,
   "id": "ed7316e1",
   "metadata": {},
   "outputs": [
    {
     "name": "stdout",
     "output_type": "stream",
     "text": [
      "The sun shines brightly. oh really? I am stuck coding at home so whatever hahahah.\n",
      "The sun shines brightly. and I like it\n"
     ]
    }
   ],
   "source": [
    "sentence1 = \"The sun shines brightly.\"\n",
    "sentence2 = \"oh really? I am stuck coding at home so whatever hahahah.\"\n",
    "sentence3 = 'and I like it'\n",
    "combined_sentence = sentence1 + \" \" + sentence2\n",
    "combined_sentence2 = sentence1 + \" \" + sentence3\n",
    "print(combined_sentence)\n",
    "print(combined_sentence2)\n"
   ]
  },
  {
   "cell_type": "code",
   "execution_count": 30,
   "id": "93bf2842",
   "metadata": {},
   "outputs": [
    {
     "name": "stdout",
     "output_type": "stream",
     "text": [
      "string string string string string string string string string string string string string string string string string string string string string string string string string string string string string string string string string string string string string string string string string string string string string string string string string string string string string string string string string string string string string string string string string string string string string string string string string string string string string string string string string string string string string string string string string string string string string string string string string string string string \n"
     ]
    }
   ],
   "source": [
    "x = 'string '\n",
    "print(x * 100)"
   ]
  },
  {
   "cell_type": "code",
   "execution_count": null,
   "id": "ba5064a7",
   "metadata": {},
   "outputs": [],
   "source": []
  }
 ],
 "metadata": {
  "kernelspec": {
   "display_name": "Python 3 (ipykernel)",
   "language": "python",
   "name": "python3"
  },
  "language_info": {
   "codemirror_mode": {
    "name": "ipython",
    "version": 3
   },
   "file_extension": ".py",
   "mimetype": "text/x-python",
   "name": "python",
   "nbconvert_exporter": "python",
   "pygments_lexer": "ipython3",
   "version": "3.11.4"
  }
 },
 "nbformat": 4,
 "nbformat_minor": 5
}
